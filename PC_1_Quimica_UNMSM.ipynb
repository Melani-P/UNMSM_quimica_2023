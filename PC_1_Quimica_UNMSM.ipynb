{
  "nbformat": 4,
  "nbformat_minor": 0,
  "metadata": {
    "colab": {
      "provenance": [],
      "collapsed_sections": [
        "mMV9c3hDl7KL"
      ],
      "include_colab_link": true
    },
    "kernelspec": {
      "name": "python3",
      "display_name": "Python 3"
    },
    "language_info": {
      "name": "python"
    },
    "widgets": {
      "application/vnd.jupyter.widget-state+json": {
        "b7985ee752d6468fa75341136103e2cd": {
          "model_module": "faerun-notebook",
          "model_name": "SmilesDrawerModel",
          "model_module_version": "^0.1.5",
          "state": {
            "_dom_classes": [],
            "_model_module": "faerun-notebook",
            "_model_module_version": "^0.1.5",
            "_model_name": "SmilesDrawerModel",
            "_view_count": null,
            "_view_module": "faerun-notebook",
            "_view_module_version": "^0.1.5",
            "_view_name": "SmilesDrawerView",
            "background": "#1e1e1e",
            "border": true,
            "layout": "IPY_MODEL_d51759b52967401b932bd9078ddf8a07",
            "options": {
              "scale": 1.25
            },
            "output": "svg",
            "theme": "dark",
            "value": [
              [
                "Rxn",
                "C(C1C(C(C(C(O1)O)O)O)O)O.O=O>>C(=O)=O.O"
              ]
            ]
          }
        },
        "d51759b52967401b932bd9078ddf8a07": {
          "model_module": "@jupyter-widgets/base",
          "model_name": "LayoutModel",
          "model_module_version": "1.2.0",
          "state": {
            "_model_module": "@jupyter-widgets/base",
            "_model_module_version": "1.2.0",
            "_model_name": "LayoutModel",
            "_view_count": null,
            "_view_module": "@jupyter-widgets/base",
            "_view_module_version": "1.2.0",
            "_view_name": "LayoutView",
            "align_content": null,
            "align_items": null,
            "align_self": null,
            "border": null,
            "bottom": null,
            "display": null,
            "flex": null,
            "flex_flow": null,
            "grid_area": null,
            "grid_auto_columns": null,
            "grid_auto_flow": null,
            "grid_auto_rows": null,
            "grid_column": null,
            "grid_gap": null,
            "grid_row": null,
            "grid_template_areas": null,
            "grid_template_columns": null,
            "grid_template_rows": null,
            "height": null,
            "justify_content": null,
            "justify_items": null,
            "left": null,
            "margin": null,
            "max_height": null,
            "max_width": null,
            "min_height": null,
            "min_width": null,
            "object_fit": null,
            "object_position": null,
            "order": null,
            "overflow": null,
            "overflow_x": null,
            "overflow_y": null,
            "padding": null,
            "right": null,
            "top": null,
            "visibility": null,
            "width": null
          }
        }
      }
    }
  },
  "cells": [
    {
      "cell_type": "markdown",
      "metadata": {
        "id": "view-in-github",
        "colab_type": "text"
      },
      "source": [
        "<a href=\"https://colab.research.google.com/github/Melani-P/UNMSM_quimica_2023/blob/main/PC_1_Quimica_UNMSM.ipynb\" target=\"_parent\"><img src=\"https://colab.research.google.com/assets/colab-badge.svg\" alt=\"Open In Colab\"/></a>"
      ]
    },
    {
      "cell_type": "markdown",
      "source": [
        "$$\\Large \\textit{UNMSM | Química}$$\n",
        "$$\\large \\textbf{PC Nº1 | Materia y clasificación}$$\n",
        "\n",
        "_Profesor: Jesus Alvarado Huayhuaz_"
      ],
      "metadata": {
        "id": "sDJAjbaQOj4x"
      }
    },
    {
      "cell_type": "markdown",
      "source": [
        "Todas las indicaciones para la presentación de la práctica son explicadas en clase y brindadas en el material de enunciado de preguntas en formato PDF."
      ],
      "metadata": {
        "id": "_DsTzWLoP7Fy"
      }
    },
    {
      "cell_type": "markdown",
      "source": [
        "## Pregunta 1: Sobre el ABC de python (4 puntos)"
      ],
      "metadata": {
        "id": "obD7c2igOD6t"
      }
    },
    {
      "cell_type": "markdown",
      "source": [
        "Durante la semana de revisión del material \"ABC de python\", reflexiona sobre qué conceptos aprendiste con claridad y cuáles consideras los más desafiantes. A continuación resuelve los siguiente ejercicios, puedes ayudarte del material en http://bit.ly/3YKICSZ."
      ],
      "metadata": {
        "id": "emt93S7dL7QH"
      }
    },
    {
      "cell_type": "code",
      "source": [
        "# Imprime la versión de python que usas y las palabras reservadas de python para esa versión.\n",
        "!python --version\n",
        "\n",
        "help('keywords')"
      ],
      "metadata": {
        "id": "6mJvqMN0LTU8",
        "outputId": "cdb2ee45-2b42-46d7-ea42-595a71a44740",
        "colab": {
          "base_uri": "https://localhost:8080/"
        }
      },
      "execution_count": null,
      "outputs": [
        {
          "output_type": "stream",
          "name": "stdout",
          "text": [
            "Python 3.10.12\n",
            "\n",
            "Here is a list of the Python keywords.  Enter any keyword to get more help.\n",
            "\n",
            "False               class               from                or\n",
            "None                continue            global              pass\n",
            "True                def                 if                  raise\n",
            "and                 del                 import              return\n",
            "as                  elif                in                  try\n",
            "assert              else                is                  while\n",
            "async               except              lambda              with\n",
            "await               finally             nonlocal            yield\n",
            "break               for                 not                 \n",
            "\n"
          ]
        }
      ]
    },
    {
      "cell_type": "code",
      "source": [
        "# Crea una matriz de 3x3 e imprime la suma de los elementos en su diagonal (traza).\n",
        "matriz = [\n",
        "    [1, 2, 3],\n",
        "    [4, 5, 6],\n",
        "    [7, 8, 9]]\n",
        "for fila in matriz:\n",
        "    print(fila)\n",
        "\n",
        "traza = sum(matriz[i][i] for i in range(len(matriz)))\n",
        "\n",
        "print('Traza:', traza)"
      ],
      "metadata": {
        "id": "MxDzGypdLTXh",
        "colab": {
          "base_uri": "https://localhost:8080/"
        },
        "outputId": "6729d52b-050f-4265-9122-1dd03a40b6e8"
      },
      "execution_count": null,
      "outputs": [
        {
          "output_type": "stream",
          "name": "stdout",
          "text": [
            "[1, 2, 3]\n",
            "[4, 5, 6]\n",
            "[7, 8, 9]\n",
            "Traza: 15\n"
          ]
        }
      ]
    },
    {
      "cell_type": "code",
      "source": [
        "# Guarda como variable la masa atómica de los elementos C, H y O, e imprime la masa molecular del etanol.\n",
        "C = (12.011)\n",
        "H = (1.008)\n",
        "O = (15.999)\n",
        "masa_etanol = C*2 + H*6 + O\n",
        "print(f'La masa molecular del etanol es {masa_etanol}')"
      ],
      "metadata": {
        "id": "MyhNX7JmLTSe",
        "colab": {
          "base_uri": "https://localhost:8080/"
        },
        "outputId": "3c723c73-87c3-448c-ddb4-986cd254f3dc"
      },
      "execution_count": null,
      "outputs": [
        {
          "output_type": "stream",
          "name": "stdout",
          "text": [
            "La masa molecular del etanol es 46.069\n"
          ]
        }
      ]
    },
    {
      "cell_type": "code",
      "source": [
        "# Busca la temperatura de fusión en Celsius de 5 metales y guárdalos en una lista. Imprime las temperaturas en Kelvin\n",
        "temperaturas_celsius = [1538, 660.32, 1084.62, 327.46, 1064]\n",
        "\n",
        "temperaturas_kelvin = [temp + 273.15 for temp in temperaturas_celsius]\n",
        "\n",
        "metales = ['Hierro', 'Aluminio', 'Cobre', 'Plomo', 'Oro']\n",
        "\n",
        "for metal, temp_k in zip(metales, temperaturas_kelvin):\n",
        "    print(f'Temperatura de fusión del {metal}: {temp_k:.2f} K')"
      ],
      "metadata": {
        "id": "NCOnJ0FwgLLc",
        "colab": {
          "base_uri": "https://localhost:8080/"
        },
        "outputId": "fc64b5a1-21f7-4386-e93d-14ee0cf82071"
      },
      "execution_count": null,
      "outputs": [
        {
          "output_type": "stream",
          "name": "stdout",
          "text": [
            "Temperatura de fusión del Hierro: 1811.15 K\n",
            "Temperatura de fusión del Aluminio: 933.47 K\n",
            "Temperatura de fusión del Cobre: 1357.77 K\n",
            "Temperatura de fusión del Plomo: 600.61 K\n",
            "Temperatura de fusión del Oro: 1337.15 K\n"
          ]
        }
      ]
    },
    {
      "cell_type": "markdown",
      "source": [
        "## Pregunta 2: Operaciones (4 puntos)"
      ],
      "metadata": {
        "id": "epzOadagLfPi"
      }
    },
    {
      "cell_type": "markdown",
      "source": [
        "Escribe un programa que lea repetidamente elementos químicos en español hasta que el usuario introduzca “fin”. Una vez se haya introducido “fin”, muestra por pantalla (o sea imprime) el total de elementos ingresados. Si el usuario introduce cualquier otra cosa que no sea un elemento químico, detecta su fallo usando try y except, muestra un mensaje de error y pasa al siguiente elemento."
      ],
      "metadata": {
        "id": "MbAEOGPsjOWZ"
      }
    },
    {
      "cell_type": "markdown",
      "source": [
        "**ELEMENTOS EN ESPAÑOL**"
      ],
      "metadata": {
        "id": "1ukb5IGCXE0e"
      }
    },
    {
      "cell_type": "code",
      "source": [
        "elementos_quimicos = ['hidrógeno', 'helio', 'litio', 'berilio', 'boro', 'carbono', 'nitrógeno', 'oxígeno', 'flúor', 'neón', 'sodio', 'magnesio', 'aluminio', 'silicio', 'fósforo', 'azufre', 'cloro', 'argón', 'potasio', 'calcio', 'escandio', 'titanio', 'vanadio', 'cromo', 'manganeso', 'hierro', 'cobalto', 'níquel', 'cobre', 'cinc', 'galio', 'germanio', 'arsénico', 'selenio', 'bromo', 'criptón', 'rubidio', 'estroncio', 'itrio', 'zirconio', 'niobio', 'molibdeno', 'tecnecio', 'rutenio', 'rodio', 'paladio', 'plata', 'cadmio', 'indio', 'estaño', 'antimonio', 'telurio', 'yodo', 'xenón', 'cesio', 'bario', 'lantano', 'cerio', 'praseodimio', 'neodimio', 'prometio', 'samario', 'europio', 'gadolinio', 'terbio', 'disprosio', 'holmio', 'erbio', 'tulio', 'iterbio', 'lutecio', 'hafnio', 'tantalio', 'wolframio', 'renio', 'osmio', 'iridio', 'platino', 'oro', 'mercurio', 'talio', 'plomo', 'bismuto', 'polonio', 'astato', 'radón', 'francio', 'radio', 'actinio', 'torio', 'protactinio', 'uranio', 'neptunio', 'plutonio', 'americio', 'curio', 'berkelio', 'californio', 'einstenio', 'fermio', 'mendelevio', 'nobelio', 'lawrencio', 'rutherfordio', 'dubnio', 'seaborgio', 'bohrio', 'hassio', 'meitnerio', 'darmstadtio', 'roentgenio', 'copernicio', 'nihonio', 'flerovio', 'moscovio', 'livermorio', 'teneso', 'oganessón']\n",
        "elementos_ingresados = []\n",
        "\n",
        "while True:\n",
        "    elemento = input(\"Introduce un elemento químico en español (o 'fin' para terminar): \").lower()\n",
        "\n",
        "    if elemento == \"fin\":\n",
        "        break\n",
        "\n",
        "    try:\n",
        "        if elemento in elementos_quimicos:\n",
        "            elementos_ingresados.append(elemento)\n",
        "        else:\n",
        "            print(f\"Error: '{elemento}' no es un elemento químico válido.\")\n",
        "    except:\n",
        "        print(\"Ha ocurrido un error al procesar el elemento.\")\n",
        "        continue\n",
        "\n",
        "total_elementos = len(elementos_ingresados)\n",
        "print(f\"Total de elementos químicos ingresados: {total_elementos}\")\n"
      ],
      "metadata": {
        "id": "-Rwj7ABPWdvB",
        "colab": {
          "base_uri": "https://localhost:8080/"
        },
        "outputId": "92535054-caf6-4160-f45a-441ca5a1852e"
      },
      "execution_count": 24,
      "outputs": [
        {
          "output_type": "stream",
          "name": "stdout",
          "text": [
            "Introduce un elemento químico en español (o 'fin' para terminar): carbono\n",
            "Introduce un elemento químico en español (o 'fin' para terminar): abc\n",
            "Error: 'abc' no es un elemento químico válido.\n",
            "Introduce un elemento químico en español (o 'fin' para terminar): fin\n",
            "Total de elementos químicos ingresados: 1\n"
          ]
        }
      ]
    },
    {
      "cell_type": "markdown",
      "source": [
        "**ELEMENTOS EN INGLÉS**"
      ],
      "metadata": {
        "id": "yg_oGqT7XSpe"
      }
    },
    {
      "cell_type": "code",
      "source": [
        "!pip install rdkit"
      ],
      "metadata": {
        "id": "zjORHhpJRkFs"
      },
      "execution_count": null,
      "outputs": []
    },
    {
      "cell_type": "code",
      "source": [
        "from rdkit import Chem\n",
        "PeriodicTable = Chem.GetPeriodicTable()\n",
        "elementos_quimicos = [PeriodicTable.GetElementName(x).lower() for x in range(1, 119)]\n",
        "elementos_ingresados = []\n",
        "\n",
        "while True:\n",
        "    elemento = input(\"Introduce un elemento químico en inglés (o 'fin' para terminar): \").lower()\n",
        "\n",
        "    if elemento == \"fin\":\n",
        "        break\n",
        "\n",
        "    try:\n",
        "        if elemento in elementos_quimicos:\n",
        "            elementos_ingresados.append(elemento)\n",
        "        else:\n",
        "            print(f\"Error: '{elemento}' no es un elemento químico válido.\")\n",
        "    except:\n",
        "        print(\"Ha ocurrido un error al procesar el elemento.\")\n",
        "        continue\n",
        "\n",
        "total_elementos = len(elementos_ingresados)\n",
        "print(f\"Total de elementos químicos ingresados: {total_elementos}\")"
      ],
      "metadata": {
        "id": "e1v-_pxpVnIR",
        "colab": {
          "base_uri": "https://localhost:8080/"
        },
        "outputId": "804a8636-7a24-4814-dad0-3ee22638ce92"
      },
      "execution_count": 28,
      "outputs": [
        {
          "output_type": "stream",
          "name": "stdout",
          "text": [
            "Introduce un elemento químico en inglés (o 'fin' para terminar): silicon\n",
            "Introduce un elemento químico en inglés (o 'fin' para terminar): abc\n",
            "Error: 'abc' no es un elemento químico válido.\n",
            "Introduce un elemento químico en inglés (o 'fin' para terminar): fin\n",
            "Total de elementos químicos ingresados: 1\n"
          ]
        }
      ]
    },
    {
      "cell_type": "markdown",
      "source": [
        "# Pregunta 3: Conservación de la masa (4 puntos)"
      ],
      "metadata": {
        "id": "8gxSHpD3LZsh"
      }
    },
    {
      "cell_type": "markdown",
      "source": [
        "### Código necesario para generar la imagen"
      ],
      "metadata": {
        "id": "mMV9c3hDl7KL"
      }
    },
    {
      "cell_type": "code",
      "source": [
        "!pip install faerun-notebook==0.1.5b0\n",
        "\n",
        "import ipywidgets as widgets\n",
        "from faerun_notebook import SmilesDrawer\n",
        "from google.colab import output\n",
        "output.enable_custom_widget_manager()"
      ],
      "metadata": {
        "id": "JgF8Ohtbky65"
      },
      "execution_count": null,
      "outputs": []
    },
    {
      "cell_type": "markdown",
      "source": [
        "### Reacción química"
      ],
      "metadata": {
        "id": "5sLC10D_oSrV"
      }
    },
    {
      "cell_type": "markdown",
      "source": [
        "Demuestra cómo se cumple la conservación de la masa en la siguiente reacción química. Sugerencia: hacer un balance estequiométrico y luego emplear la masa molecular de reactivos y productos."
      ],
      "metadata": {
        "id": "OVRhAzaVmD86"
      }
    },
    {
      "cell_type": "code",
      "source": [
        "SmilesDrawer(value=[(\"Rxn\", \"C(C1C(C(C(C(O1)O)O)O)O)O.O=O>>C(=O)=O.O\")], theme='dark', background=\"#1e1e1e\", options={'scale': 1.25})"
      ],
      "metadata": {
        "colab": {
          "base_uri": "https://localhost:8080/",
          "height": 289,
          "referenced_widgets": [
            "b7985ee752d6468fa75341136103e2cd",
            "d51759b52967401b932bd9078ddf8a07"
          ]
        },
        "id": "CC0mAXWmnYyN",
        "outputId": "ca3a9fff-520d-4e1c-ea6a-612087e06dc5"
      },
      "execution_count": null,
      "outputs": [
        {
          "output_type": "display_data",
          "data": {
            "text/plain": [
              "SmilesDrawer(background='#1e1e1e', options={'scale': 1.25}, theme='dark', value=[('Rxn', 'C(C1C(C(C(C(O1)O)O)O…"
            ],
            "application/vnd.jupyter.widget-view+json": {
              "version_major": 2,
              "version_minor": 0,
              "model_id": "b7985ee752d6468fa75341136103e2cd"
            }
          },
          "metadata": {
            "application/vnd.jupyter.widget-view+json": {
              "colab": {
                "custom_widget_manager": {
                  "url": "https://ssl.gstatic.com/colaboratory-static/widgets/colab-cdn-widget-manager/b3e629b1971e1542/manager.min.js"
                }
              }
            }
          }
        }
      ]
    },
    {
      "cell_type": "code",
      "source": [
        "C = 12.011\n",
        "H = 1.008\n",
        "O = 15.999\n",
        "\n",
        "coeficientes_reactantes = [1, 6]\n",
        "coeficientes_productos = [6, 6]\n",
        "\n",
        "masa_reactante_glucosa = coeficientes_reactantes[0] * (6 * C + 12 * H + 6 * O)\n",
        "masa_reactante_O2 = coeficientes_reactantes[1] * 2 * O\n",
        "masa_producto_CO2 = coeficientes_productos[0] * (C + 2 * O)\n",
        "masa_producto_H2O = coeficientes_productos[1] * (2 * H + O)\n",
        "\n",
        "masa_total_reactivos = masa_reactante_glucosa + masa_reactante_O2\n",
        "masa_total_productos = masa_producto_CO2 + masa_producto_H2O\n",
        "print(f'Masa total de reactivos: {masa_total_reactivos} g')\n",
        "print(f'Masa total de productos: {masa_total_productos} g')\n",
        "\n",
        "if abs(masa_total_reactivos - masa_total_productos) < 0.001:  # Pequeña tolerancia debido a redondeos\n",
        "    print('La conservación de la masa se cumple.')\n",
        "else:\n",
        "    print('La conservación de la masa no se cumple.')"
      ],
      "metadata": {
        "colab": {
          "base_uri": "https://localhost:8080/"
        },
        "id": "nkpQlmNnrmZq",
        "outputId": "b2df8d03-3f4a-445e-ccd5-cfa6c0fe8014"
      },
      "execution_count": null,
      "outputs": [
        {
          "output_type": "stream",
          "name": "stdout",
          "text": [
            "Masa total de reactivos: 372.144 g\n",
            "Masa total de productos: 372.144 g\n",
            "La conservación de la masa se cumple.\n"
          ]
        }
      ]
    },
    {
      "cell_type": "markdown",
      "source": [
        "## Pregunta 4: Notación científica (4 puntos)"
      ],
      "metadata": {
        "id": "Rh-nAUiKhJNB"
      }
    },
    {
      "cell_type": "markdown",
      "source": [
        "Imprime las siguientes operaciones según la notación científica:\n",
        "\n",
        "(1) $1.321 \\times 10^{-4} + 8.5 \\times 10^{-2}$\n",
        "\n",
        "(2) $1.71 \\times 10^{3} - 2.01 \\times 10^{2}\\$\n",
        "\n",
        "(3) $(7.4 \\times 10^5)(7.2 \\times 10^4)$\n",
        "\n",
        "(4) $(7.4 \\times 10^5)/(7.2 \\times 10^4)$"
      ],
      "metadata": {
        "id": "NIkI45Xdqqnt"
      }
    },
    {
      "cell_type": "code",
      "source": [
        "# Operación 1\n",
        "resultado_1 = 1.321e-4 + 8.5e-2\n",
        "print(\"Operación 1:\", \"{:.2e}\".format(resultado_1))\n",
        "\n",
        "# Operación 2\n",
        "resultado_2 = 1.71e3 - 2.01e2\n",
        "print(\"Operación 2:\", \"{:.2e}\".format(resultado_2))\n",
        "\n",
        "# Operación 3\n",
        "resultado_3 = (7.4e5) * (7.2e4)\n",
        "print(\"Operación 3:\", \"{:.2e}\".format(resultado_3))\n",
        "\n",
        "# Operación 4\n",
        "resultado_4 = (7.4e5) / (7.2e4)\n",
        "print(\"Operación 4:\", \"{:.2e}\".format(resultado_4))"
      ],
      "metadata": {
        "colab": {
          "base_uri": "https://localhost:8080/"
        },
        "id": "Bl9PtRmi3sL2",
        "outputId": "c64391f9-55e5-49c2-d0a2-3c6d97de662b"
      },
      "execution_count": null,
      "outputs": [
        {
          "output_type": "stream",
          "name": "stdout",
          "text": [
            "Operación 1: 8.51e-02\n",
            "Operación 2: 1.51e+03\n",
            "Operación 3: 5.33e+10\n",
            "Operación 4: 1.03e+01\n"
          ]
        }
      ]
    },
    {
      "cell_type": "markdown",
      "source": [
        "## Pregunta 5: Método científico (4 puntos)"
      ],
      "metadata": {
        "id": "CuzCcXJghR14"
      }
    },
    {
      "cell_type": "markdown",
      "source": [
        "Artículo: https://bit.ly/3surZ1W\n",
        "Leer el siguiente artículo y explica cómo es aplicado el método científico. Emplea como máximo 300 palabras."
      ],
      "metadata": {
        "id": "WngRSR-Rhmx1"
      }
    },
    {
      "cell_type": "markdown",
      "source": [
        "El artículo aborda el caso de un material llamado LK-99 que inicialmente se creía que presentaba propiedades de superconductividad. Sin embargo, investigaciones posteriores revelaron que estas afirmaciones eran incorrectas.\n",
        "\n",
        "El proceso del método científico se aplica al iniciar con la observación de comportamientos superconductores en LK-99, los investigadores coreanos plantearon la hipótesis de su superconductividad a temperatura ambiente y presión normal. Esta afirmación atrajo la atención de otros científicos, quienes intentaron replicar los resultados originales.\n",
        "\n",
        "Los siguientes pasos del método científico que se aprecian son la experimentación y recopilación de datos. Varios equipos realizaron experimentos para evaluar las propiedades de LK-99, como la levitación sobre un imán y cambios en la resistividad eléctrica. A medida que se acumulaban datos, se analizaron y se interpretaron. Se compararon con predicciones teóricas y se exploraron explicaciones alternativas para los resultados observados.\n",
        "\n",
        "Finalmente, se llegó a la conclusión de que LK-99 no era un superconductor, sino que sus propiedades eran causadas por impurezas, especialmente sulfuro de cobre. Las explicaciones se comunicaron a través de publicaciones científicas y artículos."
      ],
      "metadata": {
        "id": "k1AmgrQVF0ZA"
      }
    }
  ]
}